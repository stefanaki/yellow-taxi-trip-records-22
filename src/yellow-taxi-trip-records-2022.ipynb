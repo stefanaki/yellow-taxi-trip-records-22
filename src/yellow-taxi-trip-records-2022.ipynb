{
 "cells": [
  {
   "cell_type": "markdown",
   "id": "348c4abe",
   "metadata": {},
   "source": [
    "# Yellow Taxi Trip Records 2022\n",
    "\n",
    "*Advanced Topics in Database Systems, NTUA 2022-23*\n",
    "\n",
    "### Group 100\n",
    "- Odyssefs-Dimitrios Boufalis - el18118\n",
    "- Georgios Stefanakis - el18436"
   ]
  },
  {
   "cell_type": "markdown",
   "id": "b1636b2b",
   "metadata": {},
   "source": [
    "### Initialize PySpark session and load the data files"
   ]
  },
  {
   "cell_type": "code",
   "execution_count": 1,
   "id": "ec749726",
   "metadata": {},
   "outputs": [],
   "source": [
    "import pyspark\n",
    "from pyspark.sql import SparkSession\n",
    "from pyspark.sql.functions import *\n",
    "import datetime as dt\n",
    "import time\n",
    "import matplotlib.pyplot as plt\n",
    "import numpy as np"
   ]
  },
  {
   "cell_type": "code",
   "execution_count": 100,
   "id": "120c8a14",
   "metadata": {},
   "outputs": [],
   "source": [
    "spark = SparkSession.builder \\\n",
    "    .master(\"spark://192.168.0.1:7077\") \\\n",
    "    .appName(\"main\") \\\n",
    "    .config(\"spark.driver.memory\", \"8g\") \\\n",
    "    .getOrCreate()"
   ]
  },
  {
   "cell_type": "code",
   "execution_count": 101,
   "id": "9d7f0f5f",
   "metadata": {},
   "outputs": [
    {
     "name": "stderr",
     "output_type": "stream",
     "text": [
      "23/02/04 17:25:38 WARN TaskSchedulerImpl: Initial job has not accepted any resources; check your cluster UI to ensure that workers are registered and have sufficient resources\n",
      "                                                                                \r"
     ]
    }
   ],
   "source": [
    "# Read trip data Parquet files and the zone lookup CSV as Dataframes\n",
    "taxi_zone_lookup_filename=\"taxi+_zone_lookup.csv\"\n",
    "tripdata_filenames = [f\"yellow_tripdata_2022-0{i}.parquet\" for i in range(1,7)]\n",
    "\n",
    "tripdata_df = spark.read.parquet(\"hdfs://master:9000/user/user/adbs/*.parquet\");\n",
    "taxi_zone_lookup_df = spark.read.csv(f\"hdfs://master:9000/user/user/adbs/{taxi_zone_lookup_filename}\", header=True)"
   ]
  },
  {
   "cell_type": "code",
   "execution_count": 102,
   "id": "d74fc921",
   "metadata": {},
   "outputs": [],
   "source": [
    "# Clean up the dataset (keep dates only between 2022-01-01 and 2022-06-31)\n",
    "\n",
    "tripdata_df = tripdata_df \\\n",
    "    .filter((year(col(\"tpep_pickup_datetime\")) == 2022) & (month(col(\"tpep_pickup_datetime\")) <= 6))"
   ]
  },
  {
   "cell_type": "code",
   "execution_count": 103,
   "id": "b4ef0358",
   "metadata": {},
   "outputs": [],
   "source": [
    "# Create temporary tables for the dataframes\n",
    "tripdata_df.createOrReplaceTempView(\"trips\");\n",
    "taxi_zone_lookup_df.createOrReplaceTempView(\"zones\");"
   ]
  },
  {
   "cell_type": "code",
   "execution_count": 104,
   "id": "b22f9967",
   "metadata": {},
   "outputs": [],
   "source": [
    "# Convert Dataframes to RDD's\n",
    "tripdata_rdd = tripdata_df.rdd\n",
    "taxi_zone_lookup_rdd = taxi_zone_lookup_df.rdd"
   ]
  },
  {
   "cell_type": "code",
   "execution_count": 4,
   "id": "1c865f41",
   "metadata": {},
   "outputs": [
    {
     "data": {
      "text/html": [
       "<style>\n",
       "    div.output_stderr {\n",
       "        display: none;\n",
       "    }\n",
       "</style>\n"
      ],
      "text/plain": [
       "<IPython.core.display.HTML object>"
      ]
     },
     "metadata": {},
     "output_type": "display_data"
    }
   ],
   "source": [
    "%%html\n",
    "<style>\n",
    "    div.output_stderr {\n",
    "        display: none;\n",
    "    }\n",
    "</style>"
   ]
  },
  {
   "cell_type": "markdown",
   "id": "6f5fb3c8",
   "metadata": {},
   "source": [
    "### Query 1 - Highest tip in March in the zone \"Battery Park\" (with Dataframe)"
   ]
  },
  {
   "cell_type": "code",
   "execution_count": 64,
   "id": "e4aaaeb2",
   "metadata": {},
   "outputs": [],
   "source": [
    "def query_1_df(prnt = True):\n",
    "    start = time.time()\n",
    "    trips_zones_df = tripdata_df.join(taxi_zone_lookup_df, tripdata_df.DOLocationID == taxi_zone_lookup_df.LocationID, \"inner\")\n",
    "\n",
    "    highest_tip_march_df = trips_zones_df \\\n",
    "                            .filter((month(trips_zones_df.tpep_pickup_datetime) == 3) & \\\n",
    "                                    (trips_zones_df.Zone == \"Battery Park\")) \\\n",
    "                            .orderBy(trips_zones_df.tip_amount, ascending=False).limit(1)\n",
    "\n",
    "    if (prnt):\n",
    "        highest_tip_march_df.show()\n",
    "    else:\n",
    "        highest_tip_march_df.collect()\n",
    "    end = time.time()\n",
    "    return end - start"
   ]
  },
  {
   "cell_type": "code",
   "execution_count": 9,
   "id": "35feef69",
   "metadata": {},
   "outputs": [
    {
     "name": "stderr",
     "output_type": "stream",
     "text": [
      "                                                                                \r"
     ]
    },
    {
     "name": "stdout",
     "output_type": "stream",
     "text": [
      "+--------+--------------------+---------------------+---------------+-------------+----------+------------------+------------+------------+------------+-----------+-----+-------+----------+------------+---------------------+------------+--------------------+-----------+----------+---------+------------+------------+\n",
      "|VendorID|tpep_pickup_datetime|tpep_dropoff_datetime|passenger_count|trip_distance|RatecodeID|store_and_fwd_flag|PULocationID|DOLocationID|payment_type|fare_amount|extra|mta_tax|tip_amount|tolls_amount|improvement_surcharge|total_amount|congestion_surcharge|airport_fee|LocationID|  Borough|        Zone|service_zone|\n",
      "+--------+--------------------+---------------------+---------------+-------------+----------+------------------+------------+------------+------------+-----------+-----+-------+----------+------------+---------------------+------------+--------------------+-----------+----------+---------+------------+------------+\n",
      "|       2| 2022-03-17 12:27:47|  2022-03-17 12:27:58|            1.0|          0.0|       1.0|                 N|          12|          12|           1|        2.5|  0.0|    0.5|      40.0|         0.0|                  0.3|        45.8|                 2.5|        0.0|        12|Manhattan|Battery Park| Yellow Zone|\n",
      "+--------+--------------------+---------------------+---------------+-------------+----------+------------------+------------+------------+------------+-----------+-----+-------+----------+------------+---------------------+------------+--------------------+-----------+----------+---------+------------+------------+\n",
      "\n"
     ]
    },
    {
     "data": {
      "text/plain": [
       "35.45560693740845"
      ]
     },
     "execution_count": 9,
     "metadata": {},
     "output_type": "execute_result"
    }
   ],
   "source": [
    "query_1_df()"
   ]
  },
  {
   "cell_type": "markdown",
   "id": "c29e93fc",
   "metadata": {},
   "source": [
    "### Query 2 - Highest toll amount per month (with Dataframe)"
   ]
  },
  {
   "cell_type": "code",
   "execution_count": 65,
   "id": "0e56f9b7",
   "metadata": {
    "scrolled": true
   },
   "outputs": [],
   "source": [
    "def query_2_df(prnt = True):\n",
    "    start = time.time()\n",
    "    highest_toll_per_month_df = tripdata_df.groupBy(month(col(\"tpep_pickup_datetime\"))).max(\"tolls_amount\")\n",
    "    highest_toll_per_month_df = highest_toll_per_month_df.sort(\"month(tpep_pickup_datetime)\") \\\n",
    "                            .withColumnRenamed(\"month(tpep_pickup_datetime)\", \"month_index\") \\\n",
    "                            .withColumnRenamed(\"max(tolls_amount)\", \"highest_toll\")\n",
    "\n",
    "    if (prnt):\n",
    "        highest_toll_per_month_df.show()\n",
    "    else:\n",
    "        highest_toll_per_month_df.collect()\n",
    "    end = time.time()\n",
    "    return end - start"
   ]
  },
  {
   "cell_type": "code",
   "execution_count": 11,
   "id": "fe8a9807",
   "metadata": {},
   "outputs": [
    {
     "name": "stderr",
     "output_type": "stream",
     "text": [
      "[Stage 6:==================================================>    (185 + 2) / 200]\r"
     ]
    },
    {
     "name": "stdout",
     "output_type": "stream",
     "text": [
      "+-----------+------------+\n",
      "|month_index|highest_toll|\n",
      "+-----------+------------+\n",
      "|          1|       193.3|\n",
      "|          2|        95.0|\n",
      "|          3|       235.7|\n",
      "|          4|      911.87|\n",
      "|          5|      813.75|\n",
      "|          6|      800.09|\n",
      "+-----------+------------+\n",
      "\n"
     ]
    },
    {
     "name": "stderr",
     "output_type": "stream",
     "text": [
      "\r",
      "[Stage 6:=====================================================> (193 + 2) / 200]\r",
      "\r",
      "                                                                                \r"
     ]
    },
    {
     "data": {
      "text/plain": [
       "19.56309700012207"
      ]
     },
     "execution_count": 11,
     "metadata": {},
     "output_type": "execute_result"
    }
   ],
   "source": [
    "query_2_df()"
   ]
  },
  {
   "cell_type": "markdown",
   "id": "7f490473",
   "metadata": {},
   "source": [
    "### Query 3 - Average total cost and average distance of all trips per 15 days"
   ]
  },
  {
   "cell_type": "markdown",
   "id": "c0ee7889",
   "metadata": {},
   "source": [
    "#### Dataframe"
   ]
  },
  {
   "cell_type": "code",
   "execution_count": 66,
   "id": "998531e9",
   "metadata": {},
   "outputs": [],
   "source": [
    "def query_3_df(prnt = True):\n",
    "    start = time.time()\n",
    "    start_date = dt.datetime(2022, 1, 1, 0, 0, 0)\n",
    "    days_since_1970_to_start_date = int(time.mktime(start_date.timetuple()) / 86400)\n",
    "    offset_days = days_since_1970_to_start_date % 15\n",
    "\n",
    "    averages_df = tripdata_df \\\n",
    "                .filter(tripdata_df.DOLocationID != tripdata_df.PULocationID) \\\n",
    "                .groupBy(window(\"tpep_pickup_datetime\", \"15 days\", startTime=f\"{offset_days} days\")) \\\n",
    "                .agg(avg(\"total_amount\"), avg(\"trip_distance\")) \\\n",
    "                .orderBy(\"window\") \\\n",
    "                .withColumnRenamed(\"window\", \"date_from_to\") \\\n",
    "                .withColumnRenamed(\"avg(total_amount)\", \"avg_amount\") \\\n",
    "                .withColumnRenamed(\"avg(trip_distance)\", \"avg_distance\")\n",
    "\n",
    "    if (prnt):\n",
    "        averages_df.show(truncate=False)\n",
    "    else:\n",
    "        averages_df.collect()\n",
    "    end = time.time()\n",
    "    return end - start"
   ]
  },
  {
   "cell_type": "code",
   "execution_count": 13,
   "id": "9432c1cd",
   "metadata": {},
   "outputs": [
    {
     "name": "stderr",
     "output_type": "stream",
     "text": [
      "[Stage 8:=====================================================> (196 + 2) / 200]\r"
     ]
    },
    {
     "name": "stdout",
     "output_type": "stream",
     "text": [
      "+------------------------------------------+------------------+------------------+\n",
      "|date_from_to                              |avg_amount        |avg_distance      |\n",
      "+------------------------------------------+------------------+------------------+\n",
      "|{2021-12-31 02:00:00, 2022-01-15 02:00:00}|20.016830822788467|5.355762691593777 |\n",
      "|{2022-01-15 02:00:00, 2022-01-30 02:00:00}|18.954055732656904|4.96155445399159  |\n",
      "|{2022-01-30 02:00:00, 2022-02-14 02:00:00}|19.57035483903029 |5.968399896342185 |\n",
      "|{2022-02-14 02:00:00, 2022-03-01 02:00:00}|20.117359036443233|6.317339859074872 |\n",
      "|{2022-03-01 02:00:00, 2022-03-16 02:00:00}|20.650936513800378|6.4741866116752   |\n",
      "|{2022-03-16 02:00:00, 2022-03-31 03:00:00}|21.10063192069372 |5.6025206125766145|\n",
      "|{2022-03-31 03:00:00, 2022-04-15 03:00:00}|21.506835722042297|5.6508799863924875|\n",
      "|{2022-04-15 03:00:00, 2022-04-30 03:00:00}|21.462241263224996|5.804656731698756 |\n",
      "|{2022-04-30 03:00:00, 2022-05-15 03:00:00}|21.79652235284712 |6.08530038128784  |\n",
      "|{2022-05-15 03:00:00, 2022-05-30 03:00:00}|22.80821126319194 |8.040011020191228 |\n",
      "|{2022-05-30 03:00:00, 2022-06-14 03:00:00}|22.491218734326075|6.413082525981555 |\n",
      "|{2022-06-14 03:00:00, 2022-06-29 03:00:00}|22.388318630243656|6.163998659533463 |\n",
      "|{2022-06-29 03:00:00, 2022-07-14 03:00:00}|21.966912221681856|6.085981354220748 |\n",
      "+------------------------------------------+------------------+------------------+\n",
      "\n"
     ]
    },
    {
     "name": "stderr",
     "output_type": "stream",
     "text": [
      "\r",
      "                                                                                \r"
     ]
    },
    {
     "data": {
      "text/plain": [
       "19.91746163368225"
      ]
     },
     "execution_count": 13,
     "metadata": {},
     "output_type": "execute_result"
    }
   ],
   "source": [
    "query_3_df()"
   ]
  },
  {
   "cell_type": "markdown",
   "id": "3e85a737",
   "metadata": {},
   "source": [
    "#### RDD"
   ]
  },
  {
   "cell_type": "code",
   "execution_count": 20,
   "id": "2b36176f",
   "metadata": {},
   "outputs": [],
   "source": [
    "def map_date_to_fortnight(row):\n",
    "        dt = row.tpep_pickup_datetime\n",
    "        fortnight = dt.timetuple().tm_yday // 15 + 1\n",
    "        return (fortnight, (row.trip_distance, row.total_amount, 1))\n",
    "\n",
    "def query_3_rdd(prnt = True):\n",
    "    start = time.time()\n",
    "    \n",
    "    tripdata_filtered_rdd = tripdata_rdd.filter(lambda x: x.DOLocationID != x.PULocationID)\n",
    "    tripdata_filtered_sums_rdd = tripdata_filtered_rdd.map(map_date_to_fortnight).reduceByKey(lambda a, b: (a[0]+b[0], a[1]+b[1], a[2]+b[2]))\n",
    "    averages_rdd = tripdata_filtered_sums_rdd.mapValues(lambda x: (x[0]/x[2], x[1]/x[2]))\n",
    "    result = averages_rdd.collect()\n",
    "\n",
    "    if (prnt):\n",
    "        print(sorted(result))\n",
    "    end = time.time()\n",
    "    return end - start"
   ]
  },
  {
   "cell_type": "code",
   "execution_count": 21,
   "id": "6b76eb72",
   "metadata": {
    "scrolled": true
   },
   "outputs": [
    {
     "name": "stderr",
     "output_type": "stream",
     "text": [
      "23/02/04 14:34:12 ERROR TaskSchedulerImpl: Lost executor 0 on 83.212.81.63: Remote RPC client disassociated. Likely due to containers exceeding thresholds, or network issues. Check driver logs for WARN messages.\n",
      "23/02/04 14:34:12 WARN TaskSetManager: Lost task 1.0 in stage 23.0 (TID 1975) (83.212.81.63 executor 0): ExecutorLostFailure (executor 0 exited caused by one of the running tasks) Reason: Remote RPC client disassociated. Likely due to containers exceeding thresholds, or network issues. Check driver logs for WARN messages.\n",
      "23/02/04 14:34:12 WARN TaskSetManager: Lost task 0.0 in stage 23.0 (TID 1974) (83.212.81.63 executor 0): ExecutorLostFailure (executor 0 exited caused by one of the running tasks) Reason: Remote RPC client disassociated. Likely due to containers exceeding thresholds, or network issues. Check driver logs for WARN messages.\n",
      "[Stage 24:>                                                         (0 + 2) / 3]\r"
     ]
    },
    {
     "name": "stdout",
     "output_type": "stream",
     "text": [
      "[(1, (5.375900812549739, 20.028410224160325)), (2, (4.955629059731223, 18.954197049834928)), (3, (5.9689344431931675, 19.556047691300577)), (4, (6.31243736438367, 20.11378437270254)), (5, (6.480485434052824, 20.65227817417907)), (6, (5.613652667238764, 21.108061236787446)), (7, (5.649882510489324, 21.49729946083937)), (8, (5.813096714425007, 21.47673712570315)), (9, (6.080568966454786, 21.786113851955292)), (10, (7.999029204040285, 22.793742812773946)), (11, (6.436759370743996, 22.497024880568375)), (12, (6.166598205960558, 22.381115337159258)), (13, (5.9328103987614265, 22.019707932064964))]\n"
     ]
    },
    {
     "name": "stderr",
     "output_type": "stream",
     "text": [
      "\r",
      "[Stage 24:======================================>                   (2 + 1) / 3]\r",
      "\r",
      "                                                                                \r"
     ]
    },
    {
     "data": {
      "text/plain": [
       "725.7239394187927"
      ]
     },
     "execution_count": 21,
     "metadata": {},
     "output_type": "execute_result"
    }
   ],
   "source": [
    "query_3_rdd()"
   ]
  },
  {
   "cell_type": "markdown",
   "id": "93a9e818",
   "metadata": {},
   "source": [
    "### Query 4"
   ]
  },
  {
   "cell_type": "code",
   "execution_count": 67,
   "id": "1f1d6f57",
   "metadata": {},
   "outputs": [],
   "source": [
    "def query_4_df(prnt = True):\n",
    "    start = time.time()\n",
    "    # Extract the hour, day of week, and month from the pickup_datetime column\n",
    "    q4 = tripdata_df.withColumn(\"pickup_hour\", hour(col(\"tpep_pickup_datetime\")))\n",
    "    q4 = q4.withColumn(\"pickup_dow\", date_format(col(\"tpep_pickup_datetime\"), \"u\"))\n",
    "    #tripdata_df = tripdata_df.withColumn(\"pickup_month\", F.month(F.col(\"tpep_pickup_datetime\")))\n",
    "\n",
    "    # Group the data by hour, day of week, and month\n",
    "    q4 = q4.groupBy(\"pickup_hour\", \"pickup_dow\").agg(sum(\"passenger_count\").alias(\"passenger_count\"))\n",
    "\n",
    "    # Sort the data by passenger count in descending order\n",
    "    q4 = q4.sort(desc(\"passenger_count\"))\n",
    "\n",
    "    q4.createOrReplaceTempView(\"df\")\n",
    "    spark.sql(\"set spark.sql.legacy.timeParserPolicy=LEGACY\")\n",
    "    df = spark.sql(\"SELECT pickup_hour, pickup_dow, passenger_count FROM (SELECT pickup_hour, pickup_dow, passenger_count, ROW_NUMBER() OVER (PARTITION BY pickup_dow ORDER BY passenger_count DESC) as rnk FROM df) WHERE rnk <= 3\")\n",
    "\n",
    "    df = df.sort(col(\"pickup_dow\").asc(),col(\"passenger_count\").desc())\n",
    "    \n",
    "    if (prnt):\n",
    "        df.show(21)\n",
    "    else:\n",
    "        df.collect()\n",
    "        \n",
    "    end = time.time()\n",
    "    return end - start"
   ]
  },
  {
   "cell_type": "code",
   "execution_count": 15,
   "id": "1796e5d5",
   "metadata": {},
   "outputs": [
    {
     "name": "stderr",
     "output_type": "stream",
     "text": [
      "[Stage 14:===================================================>  (189 + 2) / 200]\r"
     ]
    },
    {
     "name": "stdout",
     "output_type": "stream",
     "text": [
      "+-----------+----------+---------------+\n",
      "|pickup_hour|pickup_dow|passenger_count|\n",
      "+-----------+----------+---------------+\n",
      "|         20|         1|       247418.0|\n",
      "|         21|         1|       238259.0|\n",
      "|         19|         1|       236534.0|\n",
      "|         20|         2|       276200.0|\n",
      "|         21|         2|       268951.0|\n",
      "|         19|         2|       257625.0|\n",
      "|         20|         3|       281426.0|\n",
      "|         21|         3|       276147.0|\n",
      "|         19|         3|       258958.0|\n",
      "|         20|         4|       285365.0|\n",
      "|         21|         4|       283074.0|\n",
      "|         19|         4|       268112.0|\n",
      "|         21|         5|       289408.0|\n",
      "|         20|         5|       282941.0|\n",
      "|         22|         5|       255878.0|\n",
      "|         21|         6|       274010.0|\n",
      "|         20|         6|       272951.0|\n",
      "|         19|         6|       261720.0|\n",
      "|          0|         7|       228580.0|\n",
      "|         19|         7|       226543.0|\n",
      "|         17|         7|       226426.0|\n",
      "+-----------+----------+---------------+\n",
      "\n"
     ]
    },
    {
     "name": "stderr",
     "output_type": "stream",
     "text": [
      "\r",
      "                                                                                \r"
     ]
    },
    {
     "data": {
      "text/plain": [
       "39.51220965385437"
      ]
     },
     "execution_count": 15,
     "metadata": {},
     "output_type": "execute_result"
    }
   ],
   "source": [
    "query_4_df()"
   ]
  },
  {
   "cell_type": "markdown",
   "id": "7eeecc18",
   "metadata": {},
   "source": [
    "### Query 5"
   ]
  },
  {
   "cell_type": "code",
   "execution_count": 68,
   "id": "193145f8",
   "metadata": {},
   "outputs": [],
   "source": [
    "def query_5_df(prnt = True):\n",
    "    start = time.time()\n",
    "    # Add a new column for the tip/fare ratio\n",
    "    q5 = tripdata_df.withColumn(\"tip_fare_ratio\", col(\"tip_amount\") / col(\"fare_amount\"))\n",
    "\n",
    "    # Group the data by month and day and compute the average tip/fare ratio\n",
    "    q5 = q5.groupBy(month(\"tpep_pickup_datetime\").alias(\"month\"), dayofmonth(\"tpep_pickup_datetime\").alias(\"day\")) \\\n",
    "            .agg(mean(\"tip_fare_ratio\").alias(\"avg_tip_fare_ratio\"))\n",
    "\n",
    "    # Sort the data by month, day, and average tip/fare ratio\n",
    "    q5 = q5.sort(col(\"month\"), col(\"day\"), col(\"avg_tip_fare_ratio\").desc())\n",
    "\n",
    "    # Get the top 5 days per month\n",
    "    q5.createOrReplaceTempView(\"taxi_view\")\n",
    "    result = spark.sql(\"\"\"\n",
    "        SELECT month, day, avg_tip_fare_ratio\n",
    "        FROM (\n",
    "            SELECT month, day, avg_tip_fare_ratio,\n",
    "                ROW_NUMBER() OVER (PARTITION BY month ORDER BY avg_tip_fare_ratio DESC) as rank\n",
    "            FROM taxi_view\n",
    "        )\n",
    "        WHERE rank <= 5\n",
    "    \"\"\")\n",
    "    \n",
    "    # Display the results\n",
    "    result = result.sort(col(\"month\").asc(), col(\"avg_tip_fare_ratio\").desc())\n",
    "    \n",
    "    \n",
    "    if (prnt):\n",
    "        result.show(30)\n",
    "    else:\n",
    "        result.collect()\n",
    "    \n",
    "    end = time.time()\n",
    "    return end - start"
   ]
  },
  {
   "cell_type": "code",
   "execution_count": 17,
   "id": "3536e193",
   "metadata": {},
   "outputs": [
    {
     "name": "stderr",
     "output_type": "stream",
     "text": [
      "[Stage 20:===================================================>  (192 + 2) / 200]\r"
     ]
    },
    {
     "name": "stdout",
     "output_type": "stream",
     "text": [
      "+-----+---+-------------------+\n",
      "|month|day| avg_tip_fare_ratio|\n",
      "+-----+---+-------------------+\n",
      "|    1|  9| 0.4578674775487535|\n",
      "|    1| 31| 0.4393563580769872|\n",
      "|    1|  1|0.29078036861366435|\n",
      "|    1| 29| 0.2405951845436878|\n",
      "|    1| 16|0.23377299918217617|\n",
      "|    2| 21|0.25981657452765006|\n",
      "|    2| 13| 0.2457206838940141|\n",
      "|    2|  9|0.23904535643411468|\n",
      "|    2| 10|0.23339615899346813|\n",
      "|    2| 27|0.23300679951545766|\n",
      "|    3| 18|0.29671341612657676|\n",
      "|    3| 21|    0.2757992602492|\n",
      "|    3| 26|0.22708845953721593|\n",
      "|    3|  5|0.22555461372495167|\n",
      "|    3| 12|0.22100859110807622|\n",
      "|    4| 12| 0.4836884410450817|\n",
      "|    4|  2|0.31175092883996536|\n",
      "|    4| 21| 0.3044861250236238|\n",
      "|    4|  3|0.24463727704754118|\n",
      "|    4| 30|0.21996769659947238|\n",
      "|    5| 12|0.32402658973195914|\n",
      "|    5| 20| 0.2603403609036704|\n",
      "|    5| 16|0.23659110789277535|\n",
      "|    5| 15|0.22052445247008398|\n",
      "|    5|  6|0.21832006161882067|\n",
      "|    6| 13|0.38451369937243063|\n",
      "|    6| 25|0.32913073292653017|\n",
      "|    6| 10|0.27397637812780157|\n",
      "|    6| 16| 0.2553497575787421|\n",
      "|    6| 20|0.24242914593518236|\n",
      "+-----+---+-------------------+\n",
      "\n"
     ]
    },
    {
     "name": "stderr",
     "output_type": "stream",
     "text": [
      "\r",
      "                                                                                \r"
     ]
    },
    {
     "data": {
      "text/plain": [
       "29.995561838150024"
      ]
     },
     "execution_count": 17,
     "metadata": {},
     "output_type": "execute_result"
    }
   ],
   "source": [
    "query_5_df()"
   ]
  },
  {
   "cell_type": "markdown",
   "id": "5c27ff32",
   "metadata": {},
   "source": [
    "## Benchmarks\n",
    "\n",
    "We are executing each query iteratively and calculate the mean time of all the trials."
   ]
  },
  {
   "cell_type": "code",
   "execution_count": 62,
   "id": "a6f827c2",
   "metadata": {},
   "outputs": [],
   "source": [
    "QUERY_EXECUTION_ITERATIONS = 10"
   ]
  },
  {
   "cell_type": "code",
   "execution_count": 63,
   "id": "375d4636",
   "metadata": {},
   "outputs": [],
   "source": [
    "execution_times_1_worker = dict({\n",
    "    'q1_df': [],\n",
    "    'q2_df': [],\n",
    "    'q3_df': [],\n",
    "    'q3_rdd': [],\n",
    "    'q4_df': [],\n",
    "    'q5_df': [],\n",
    "})"
   ]
  },
  {
   "cell_type": "code",
   "execution_count": 22,
   "id": "cd5cbee2",
   "metadata": {
    "scrolled": false
   },
   "outputs": [],
   "source": [
    "\n",
    "\n",
    "execution_times_2_workers = dict({\n",
    "    'q1_df': [],\n",
    "    'q2_df': [],\n",
    "    'q3_df': [],\n",
    "    'q3_rdd': [],\n",
    "    'q4_df': [],\n",
    "    'q5_df': [],\n",
    "})\n",
    "\n"
   ]
  },
  {
   "cell_type": "code",
   "execution_count": 58,
   "id": "c95dbdee",
   "metadata": {},
   "outputs": [
    {
     "name": "stderr",
     "output_type": "stream",
     "text": [
      "                                                                                \r"
     ]
    },
    {
     "name": "stdout",
     "output_type": "stream",
     "text": [
      "q3_rdd run finished\n"
     ]
    },
    {
     "name": "stderr",
     "output_type": "stream",
     "text": [
      "                                                                                \r"
     ]
    },
    {
     "name": "stdout",
     "output_type": "stream",
     "text": [
      "q3_rdd run finished\n"
     ]
    },
    {
     "name": "stderr",
     "output_type": "stream",
     "text": [
      "                                                                                \r"
     ]
    },
    {
     "name": "stdout",
     "output_type": "stream",
     "text": [
      "q3_rdd run finished\n"
     ]
    },
    {
     "name": "stderr",
     "output_type": "stream",
     "text": [
      "                                                                                \r"
     ]
    },
    {
     "name": "stdout",
     "output_type": "stream",
     "text": [
      "q3_rdd run finished\n"
     ]
    },
    {
     "name": "stderr",
     "output_type": "stream",
     "text": [
      "                                                                                \r"
     ]
    },
    {
     "name": "stdout",
     "output_type": "stream",
     "text": [
      "q3_rdd run finished\n"
     ]
    },
    {
     "name": "stderr",
     "output_type": "stream",
     "text": [
      "                                                                                \r"
     ]
    },
    {
     "name": "stdout",
     "output_type": "stream",
     "text": [
      "q3_rdd run finished\n"
     ]
    },
    {
     "name": "stderr",
     "output_type": "stream",
     "text": [
      "                                                                                \r"
     ]
    },
    {
     "name": "stdout",
     "output_type": "stream",
     "text": [
      "q3_rdd run finished\n"
     ]
    },
    {
     "name": "stderr",
     "output_type": "stream",
     "text": [
      "                                                                                \r"
     ]
    },
    {
     "name": "stdout",
     "output_type": "stream",
     "text": [
      "q3_rdd run finished\n"
     ]
    },
    {
     "name": "stderr",
     "output_type": "stream",
     "text": [
      "                                                                                \r"
     ]
    },
    {
     "name": "stdout",
     "output_type": "stream",
     "text": [
      "q3_rdd run finished\n"
     ]
    },
    {
     "name": "stderr",
     "output_type": "stream",
     "text": [
      "[Stage 20:======================================>                   (2 + 1) / 3]\r"
     ]
    },
    {
     "name": "stdout",
     "output_type": "stream",
     "text": [
      "q3_rdd run finished\n"
     ]
    },
    {
     "name": "stderr",
     "output_type": "stream",
     "text": [
      "\r",
      "                                                                                \r"
     ]
    }
   ],
   "source": [
    "functions = dict({\n",
    "    'q1_df': query_1_df,\n",
    "    'q2_df': query_2_df,\n",
    "    'q3_df': query_3_df,\n",
    "    'q3_rdd': query_3_rdd,\n",
    "    'q4_df': query_4_df,\n",
    "    'q5_df': query_5_df\n",
    "})\n",
    "\n",
    "for key, func in functions.items():\n",
    "    for _ in range(QUERY_EXECUTION_ITERATIONS):\n",
    "        execution_times_2_workers[key].append(func(prnt = False))\n",
    "        print(f\"{key} run finished\")"
   ]
  },
  {
   "cell_type": "code",
   "execution_count": 59,
   "id": "cd025154",
   "metadata": {},
   "outputs": [
    {
     "name": "stdout",
     "output_type": "stream",
     "text": [
      "{'q1_df': [26.419020414352417, 17.94215202331543, 67.72934818267822, 21.918823719024658, 17.738363027572632, 16.72762155532837, 70.82903003692627, 22.586745500564575, 18.857849597930908, 16.69855523109436], 'q2_df': [31.652040481567383, 19.445860624313354, 18.980979681015015, 19.01453185081482, 18.23278021812439, 18.29150652885437, 16.823143005371094, 16.99494242668152, 16.466535329818726, 16.020707607269287], 'q3_df': [33.36927652359009, 24.98191738128662, 21.558933973312378, 21.00525712966919, 19.228788137435913, 19.602935552597046, 20.173444986343384, 19.464941024780273, 19.327569484710693, 18.408876180648804], 'q3_rdd': [418.7762243747711, 403.97292923927307, 399.72437477111816, 406.25108909606934, 405.5261182785034, 411.11470317840576, 414.0223562717438, 404.79348945617676, 409.17299795150757, 406.3382592201233], 'q4_df': [46.78717827796936, 34.894811153411865, 31.93599510192871, 30.079927921295166, 29.045452117919922, 29.501623392105103, 28.89548897743225, 29.685202836990356, 27.75418472290039, 30.123527765274048], 'q5_df': [51.411051511764526, 36.029452085494995, 32.76801085472107, 28.44440460205078, 29.462916612625122, 28.70184636116028, 29.459246397018433, 28.285322189331055, 28.156721115112305, 27.966511964797974]}\n"
     ]
    }
   ],
   "source": [
    "print(execution_times_2_workers)\n",
    "    "
   ]
  },
  {
   "cell_type": "code",
   "execution_count": 60,
   "id": "0c3cae5c",
   "metadata": {},
   "outputs": [
    {
     "name": "stdout",
     "output_type": "stream",
     "text": [
      "[29.744750928878783, 19.192302775382995, 21.71219403743744, 407.96925418376924, 31.870339226722717, 32.06854836940765]\n"
     ]
    },
    {
     "data": {
      "text/plain": [
       "<BarContainer object of 6 artists>"
      ]
     },
     "execution_count": 60,
     "metadata": {},
     "output_type": "execute_result"
    },
    {
     "data": {
      "image/png": "[encoded data removed]",
      "text/plain": [
       "<Figure size 640x480 with 1 Axes>"
      ]
     },
     "metadata": {},
     "output_type": "display_data"
    }
   ],
   "source": [
    "mean_times_2_workers = [np.mean(value) for value in execution_times_2_workers.values()]\n",
    "\n",
    "print(mean_times_2_workers)\n",
    "\n",
    "x_axis = [key for key in execution_times_2_workers.keys()]\n",
    "\n",
    "plt.title('Mean execution time with 2 workers')\n",
    "plt.bar(x_axis, mean_times_2_workers)"
   ]
  },
  {
   "cell_type": "code",
   "execution_count": 105,
   "id": "dfd691d0",
   "metadata": {},
   "outputs": [
    {
     "name": "stderr",
     "output_type": "stream",
     "text": [
      "                                                                                \r"
     ]
    },
    {
     "name": "stdout",
     "output_type": "stream",
     "text": [
      "q3_rdd run finished\n"
     ]
    },
    {
     "name": "stderr",
     "output_type": "stream",
     "text": [
      "                                                                                \r"
     ]
    },
    {
     "name": "stdout",
     "output_type": "stream",
     "text": [
      "q3_rdd run finished\n"
     ]
    },
    {
     "name": "stderr",
     "output_type": "stream",
     "text": [
      "23/02/04 17:42:55 ERROR TaskSchedulerImpl: Lost executor 0 on 83.212.81.63: Remote RPC client disassociated. Likely due to containers exceeding thresholds, or network issues. Check driver logs for WARN messages.\n",
      "23/02/04 17:42:55 WARN TaskSetManager: Lost task 0.0 in stage 6.0 (TID 14) (83.212.81.63 executor 0): ExecutorLostFailure (executor 0 exited caused by one of the running tasks) Reason: Remote RPC client disassociated. Likely due to containers exceeding thresholds, or network issues. Check driver logs for WARN messages.\n",
      "23/02/04 17:42:55 WARN TaskSetManager: Lost task 1.0 in stage 6.0 (TID 15) (83.212.81.63 executor 0): ExecutorLostFailure (executor 0 exited caused by one of the running tasks) Reason: Remote RPC client disassociated. Likely due to containers exceeding thresholds, or network issues. Check driver logs for WARN messages.\n",
      "                                                                                \r"
     ]
    },
    {
     "name": "stdout",
     "output_type": "stream",
     "text": [
      "q3_rdd run finished\n"
     ]
    },
    {
     "name": "stderr",
     "output_type": "stream",
     "text": [
      "                                                                                \r"
     ]
    },
    {
     "name": "stdout",
     "output_type": "stream",
     "text": [
      "q3_rdd run finished\n"
     ]
    },
    {
     "name": "stderr",
     "output_type": "stream",
     "text": [
      "                                                                                \r"
     ]
    },
    {
     "name": "stdout",
     "output_type": "stream",
     "text": [
      "q3_rdd run finished\n"
     ]
    },
    {
     "name": "stderr",
     "output_type": "stream",
     "text": [
      "                                                                                \r"
     ]
    },
    {
     "name": "stdout",
     "output_type": "stream",
     "text": [
      "q3_rdd run finished\n"
     ]
    },
    {
     "name": "stderr",
     "output_type": "stream",
     "text": [
      "23/02/04 18:11:03 ERROR TaskSchedulerImpl: Lost executor 1 on 83.212.81.63: Remote RPC client disassociated. Likely due to containers exceeding thresholds, or network issues. Check driver logs for WARN messages.\n",
      "23/02/04 18:11:03 WARN TaskSetManager: Lost task 1.0 in stage 14.0 (TID 41) (83.212.81.63 executor 1): ExecutorLostFailure (executor 1 exited caused by one of the running tasks) Reason: Remote RPC client disassociated. Likely due to containers exceeding thresholds, or network issues. Check driver logs for WARN messages.\n",
      "23/02/04 18:11:03 WARN TaskSetManager: Lost task 0.0 in stage 14.0 (TID 40) (83.212.81.63 executor 1): ExecutorLostFailure (executor 1 exited caused by one of the running tasks) Reason: Remote RPC client disassociated. Likely due to containers exceeding thresholds, or network issues. Check driver logs for WARN messages.\n",
      "                                                                                \r"
     ]
    },
    {
     "name": "stdout",
     "output_type": "stream",
     "text": [
      "q3_rdd run finished\n"
     ]
    },
    {
     "name": "stderr",
     "output_type": "stream",
     "text": [
      "                                                                                \r"
     ]
    },
    {
     "name": "stdout",
     "output_type": "stream",
     "text": [
      "q3_rdd run finished\n"
     ]
    },
    {
     "name": "stderr",
     "output_type": "stream",
     "text": [
      "                                                                                \r"
     ]
    },
    {
     "name": "stdout",
     "output_type": "stream",
     "text": [
      "q3_rdd run finished\n"
     ]
    },
    {
     "name": "stderr",
     "output_type": "stream",
     "text": [
      "[Stage 20:======================================>                   (2 + 1) / 3]\r"
     ]
    },
    {
     "name": "stdout",
     "output_type": "stream",
     "text": [
      "q3_rdd run finished\n"
     ]
    },
    {
     "name": "stderr",
     "output_type": "stream",
     "text": [
      "\r",
      "                                                                                \r"
     ]
    }
   ],
   "source": [
    "functions = dict({\n",
    "    'q1_df': query_1_df,\n",
    "    'q2_df': query_2_df,\n",
    "    'q3_df': query_3_df,\n",
    "    'q3_rdd': query_3_rdd,\n",
    "    'q4_df': query_4_df,\n",
    "    'q5_df': query_5_df\n",
    "})\n",
    "\n",
    "\n",
    "for key, func in functions.items():\n",
    "    for _ in range(QUERY_EXECUTION_ITERATIONS):\n",
    "        execution_times_1_worker[key].append(func(prnt = False))\n",
    "        print(f\"{key} run finished\")"
   ]
  },
  {
   "cell_type": "code",
   "execution_count": 106,
   "id": "357b1a5b",
   "metadata": {},
   "outputs": [
    {
     "name": "stdout",
     "output_type": "stream",
     "text": [
      "{'q1_df': [29.71183133125305, 19.258010864257812, 18.43506622314453, 19.45610737800598, 19.78105354309082, 17.898274421691895, 18.133906841278076, 16.721590757369995, 16.019317388534546, 17.95937180519104], 'q2_df': [24.418055534362793, 18.40995955467224, 17.831607580184937, 18.979583501815796, 17.063773155212402, 14.584014415740967, 16.494284629821777, 16.783381700515747, 17.3369722366333, 15.25014042854309], 'q3_df': [35.43150997161865, 22.088650465011597, 21.336586236953735, 19.158627033233643, 19.286943197250366, 19.48453164100647, 21.09820008277893, 18.848591089248657, 18.903407335281372, 19.24827551841736], 'q3_rdd': [428.44150710105896, 412.84298396110535, 582.8550498485565, 405.78857254981995, 406.19325137138367, 412.138135433197, 455.28620409965515, 404.10657000541687, 397.3889424800873, 421.703494310379], 'q4_df': [51.01506304740906, 32.40484261512756, 31.536884546279907, 31.083675384521484, 31.32035541534424, 29.34157395362854, 29.602421283721924, 31.07476806640625, 27.868671417236328, 30.36950445175171], 'q5_df': [32.34225606918335, 30.817864894866943, 30.6967670917511, 29.052401781082153, 27.085667848587036, 29.00938129425049, 27.640085220336914, 27.448797464370728, 29.15709662437439, 28.43732476234436]}\n"
     ]
    }
   ],
   "source": [
    "print(execution_times_1_worker)"
   ]
  },
  {
   "cell_type": "code",
   "execution_count": 108,
   "id": "5d5f8249",
   "metadata": {},
   "outputs": [
    {
     "name": "stdout",
     "output_type": "stream",
     "text": [
      "[19.337453055381776, 17.715177273750307, 21.488532257080077, 432.674471116066, 32.5617760181427, 29.168764305114745]\n"
     ]
    },
    {
     "data": {
      "text/plain": [
       "<BarContainer object of 6 artists>"
      ]
     },
     "execution_count": 108,
     "metadata": {},
     "output_type": "execute_result"
    },
    {
     "data": {
      "image/png": "[encoded data removed]",
      "text/plain": [
       "<Figure size 640x480 with 1 Axes>"
      ]
     },
     "metadata": {},
     "output_type": "display_data"
    }
   ],
   "source": [
    "mean_times_1_worker = [np.mean(value) for value in execution_times_1_worker.values()]\n",
    "\n",
    "print(mean_times_1_worker)\n",
    "\n",
    "x_axis = [key for key in execution_times_1_worker.keys()]\n",
    "\n",
    "plt.title('Mean execution time with 1 worker')\n",
    "plt.bar(x_axis, mean_times_1_worker)"
   ]
  },
  {
   "cell_type": "code",
   "execution_count": 109,
   "id": "86810443",
   "metadata": {},
   "outputs": [],
   "source": [
    "# Stop the spark session\n",
    "spark.stop()"
   ]
  },
  {
   "cell_type": "code",
   "execution_count": null,
   "id": "46923e11",
   "metadata": {},
   "outputs": [],
   "source": []
  }
 ],
 "metadata": {
  "kernelspec": {
   "display_name": "Python 3 (ipykernel)",
   "language": "python",
   "name": "python3"
  },
  "language_info": {
   "codemirror_mode": {
    "name": "ipython",
    "version": 3
   },
   "file_extension": ".py",
   "mimetype": "text/x-python",
   "name": "python",
   "nbconvert_exporter": "python",
   "pygments_lexer": "ipython3",
   "version": "3.8.0"
  }
 },
 "nbformat": 4,
 "nbformat_minor": 5
}
